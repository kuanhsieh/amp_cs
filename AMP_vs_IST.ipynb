{
 "cells": [
  {
   "cell_type": "code",
   "execution_count": 70,
   "metadata": {
    "ExecuteTime": {
     "end_time": "2021-09-15T02:51:23.694560Z",
     "start_time": "2021-09-15T02:51:23.690091Z"
    }
   },
   "outputs": [],
   "source": [
    "# AMP for signal recovery in compressed sensing.\n",
    "# CS model: y = A * x + noise\n",
    "# Goal: recover x given y and A\n",
    "#\n",
    "# This notebook compares the histograms of the effective observation \n",
    "# term s^t = x^t + A^T * z^t of the AMP algorithm and the iterative \n",
    "# soft-thresholding (IST) algorithm, where t is the iteration index.\n",
    "# \n",
    "# The only difference between the AMP algorithm and the IST algorithm\n",
    "# is that in the AMP algorithm there is the additional \"Onsager\"\n",
    "# correction term in the calculation of the residual vector, \n",
    "# i.e., in IST we have z^t = y − A * x^t, whereas in AMP we have \n",
    "# z^t = y − A * x^t + b * z^{t-1}.\n",
    "# \n",
    "# The role of the Onsager correction term is crucial for the \n",
    "# effectiveness of the AMP and its per-iteration error characterisation\n",
    "# using state evolution. \n",
    "# The key intuition behind the AMP is that the entries of the effective\n",
    "# observation s^t can be seen as the true signal x corrupted with\n",
    "# zero-mean additive Gaussian noise. This is not true for the IST.\n",
    "# Therefore, we expect the histogram of s^t of the AMP to look Gaussian\n",
    "# centred around the true x, whereas the IST histogram should not look\n",
    "# Gaussian.\n",
    "# For more details on the intuition of the Onsager correction term,\n",
    "# see Section I.C. of “The dynamics of message passing on dense graphs,\n",
    "# with applications to compressed sensing\" by Bayati and Montanari (2011)\n",
    "#\n",
    "# Specifically, in this notebook I replicate Figure 6 of \"Graphical \n",
    "# Models Concepts in Compressed Sensing\" by Andrea Montanari (2011),\n",
    "# with minor modifications.\n",
    "#\n",
    "# The system setup is as follows:\n",
    "# - The sensing matrix A has M=2000 rows and N=4000 columns and i.i.d. \n",
    "#   entries uniform in {+1/sqrt(M), -1/sqrt(M)}.\n",
    "# - The signal x with dimension N=4000 has 500 non-zero entries\n",
    "#   uniform in {+1,-1}.\n",
    "# \n",
    "# I plot the distribution of (s^t)_i = (x^t + A^T * z^t)_i for \n",
    "# coordinates i such that the true signal has value x_i = +1 after \n",
    "# t = 10 iterations.\n",
    "# A total of 40 instances of were used to build the histograms. Across\n",
    "# instances, the same signal and sensing matrix was used, but a random\n",
    "# noise vector was sampled in each instance. (This differs from the \n",
    "# setup in Fig. 6 of Montanari 2011. I also use a different \n",
    "# thresholding parameter alpha for AMP and IST.)\n",
    "#\n",
    "# For AMP (left), the distribution is close to Gaussian, with mean \n",
    "# close to the correct value, x_i = +1. \n",
    "# For IST (right), the distribution does not have the correct mean \n",
    "# and is not Gaussian.\n",
    "#\n",
    "# Copyright (c) 2021 Kuan Hsieh\n",
    "\n",
    "import numpy as np\n",
    "from numpy import linalg as LA\n",
    "from scipy.stats import norm\n",
    "from scipy.optimize import minimize_scalar\n",
    "import matplotlib.pyplot as plt\n",
    "import time\n",
    "\n",
    "from amp4cs import initialise_CS, opt_tuning_param, soft_thresh"
   ]
  },
  {
   "cell_type": "code",
   "execution_count": 233,
   "metadata": {
    "ExecuteTime": {
     "end_time": "2021-09-15T19:06:22.592298Z",
     "start_time": "2021-09-15T19:06:17.772843Z"
    }
   },
   "outputs": [
    {
     "name": "stdout",
     "output_type": "stream",
     "text": [
      "time elapsed (s): 4.802351339996676\n"
     ]
    }
   ],
   "source": [
    "N = 4000  # dimension of signal\n",
    "M = 2000  # of measurements\n",
    "K = 500   # of non-zero coefficients\n",
    "sigma = 0.1 # Noise standard deviation\n",
    "alpha_amp = opt_tuning_param(K/N) # Find optimal alpha\n",
    "alpha_ist = 2.0 # Find optimal alpha, this needs to be optimised empirically\n",
    "iter_max  = 10 # The iteration number to analyse signal estimate distribution\n",
    "\n",
    "numOfRuns = 40\n",
    "\n",
    "#######\n",
    "\n",
    "start = time.perf_counter()\n",
    "\n",
    "# Generate signal\n",
    "x_init = 1*(np.random.rand(K)<0.5)\n",
    "x_init[np.logical_not(x_init)] = -1\n",
    "x_init = np.concatenate((x_init, np.zeros((N-K))))\n",
    "np.random.shuffle(x_init)\n",
    "\n",
    "idxs      = np.array(x_init==1)           # Indices of +1 entries\n",
    "numOf1s   = np.count_nonzero(idxs)        # Number of +1 entries\n",
    "s_err_amp = np.zeros((numOfRuns,numOf1s)) # Store effective observations at +1\n",
    "s_err_ist = np.zeros((numOfRuns,numOf1s)) # entry locations after 10 iterations\n",
    "\n",
    "# Generate sensing matrix\n",
    "A = np.random.randn(M,N)/np.sqrt(M)\n",
    "\n",
    "# Generate noiseless measurements\n",
    "Ax_init = np.dot(A,x_init)\n",
    "    \n",
    "for run in range(numOfRuns):\n",
    "\n",
    "    # Generate random noise and add to measurements\n",
    "    y = Ax_init + sigma*np.random.randn(M)\n",
    "    \n",
    "    # Run decoders\n",
    "    x_amp = np.zeros_like(x_init) # Initial signal estimate\n",
    "    x_ist = np.zeros_like(x_init)\n",
    "    z_amp = y                     # Initial residual\n",
    "    z_ist = y\n",
    "\n",
    "    for t in range(iter_max):\n",
    "\n",
    "        # AMP estimate vector\n",
    "        theta = alpha_amp * np.sqrt(LA.norm(z_amp)**2/M) # alpha*tau\n",
    "        s_amp = x_amp + np.dot(A.T,z_amp)\n",
    "        x_amp = soft_thresh(s_amp, theta)\n",
    "\n",
    "        # IST estimate vector\n",
    "        theta = alpha_ist * np.sqrt(LA.norm(z_ist)**2/M) # alpha*tau\n",
    "        s_ist = x_ist + np.dot(A.T,z_ist)\n",
    "        x_ist = soft_thresh(s_ist, theta)\n",
    "\n",
    "        # AMP calculate residual with the Onsager term\n",
    "        b     = LA.norm(x_amp,0)/M\n",
    "        z_amp = y - np.dot(A,x_amp) + b*z_amp\n",
    "\n",
    "        # IST calculate residual without Onsager term\n",
    "        z_ist = y - np.dot(A,x_ist)\n",
    "    \n",
    "    s_err_amp[run] = s_amp[idxs]\n",
    "    s_err_ist[run] = s_ist[idxs]\n",
    "\n",
    "print('time elapsed (s):', time.perf_counter() - start)"
   ]
  },
  {
   "cell_type": "code",
   "execution_count": 237,
   "metadata": {
    "ExecuteTime": {
     "end_time": "2021-09-15T19:06:55.925617Z",
     "start_time": "2021-09-15T19:06:55.227469Z"
    },
    "scrolled": false
   },
   "outputs": [
    {
     "name": "stdout",
     "output_type": "stream",
     "text": [
      "AMP: mu = 0.9891002623111383, tau^2 = 0.05712686379014464\n",
      "IST: mu = 0.7657341600233943, tau^2 = 0.14043736083650363\n"
     ]
    },
    {
     "data": {
      "image/png": "[encoded data removed]",
      "text/plain": [
       "<Figure size 864x360 with 2 Axes>"
      ]
     },
     "metadata": {
      "needs_background": "light"
     },
     "output_type": "display_data"
    }
   ],
   "source": [
    "numOfBins = 40\n",
    "plt.figure(figsize=(12,5))\n",
    "plt.subplot(121)\n",
    "_= plt.hist(s_err_amp.flatten(),bins=numOfBins,density=1,color='turquoise',edgecolor='k',alpha=0.75)\n",
    "# Stack fitted normal distribution on top\n",
    "min_amp = s_err_amp.min()\n",
    "max_amp = s_err_amp.max()\n",
    "(mu_amp, tau_amp) = norm.fit(s_err_amp)\n",
    "y = norm.pdf(np.linspace(min_amp,max_amp,100), mu_amp, tau_amp)\n",
    "plt.plot(np.linspace(min_amp,max_amp,100), y, 'r--', linewidth=2)\n",
    "plt.axvline(mu_amp, color='b', linestyle='--', linewidth=2)\n",
    "plt.title('AMP')\n",
    "plt.xlabel(r'$(x^t+A^*r^t)_i$')\n",
    "# plt.axis([-1,1,0,1.6])\n",
    "print('AMP: mu = {}, tau^2 = {}'.format(mu_amp, tau_amp**2))\n",
    "\n",
    "plt.subplot(122)\n",
    "_= plt.hist(s_err_ist.flatten(),bins=numOfBins,density=1,color='turquoise',edgecolor='k',alpha=0.75)\n",
    "# Stack fitted normal distribution on top\n",
    "min_ist = s_err_ist.min()\n",
    "max_ist = s_err_ist.max()\n",
    "(mu_ist, tau_ist) = norm.fit(s_err_ist)\n",
    "y = norm.pdf(np.linspace(min_ist,max_ist,100), mu_ist, tau_ist)\n",
    "plt.plot(np.linspace(min_ist,max_ist,100), y, 'r--', linewidth=2)\n",
    "plt.axvline(mu_ist, color='b', linestyle='--', linewidth=2)\n",
    "plt.title('IST')\n",
    "plt.xlabel(r'$(x^t+A^*r^t)_i$')\n",
    "# plt.axis([0,2,0,1.8])\n",
    "print('IST: mu = {}, tau^2 = {}'.format(mu_ist, tau_ist**2))"
   ]
  },
  {
   "cell_type": "code",
   "execution_count": null,
   "metadata": {},
   "outputs": [],
   "source": []
  }
 ],
 "metadata": {
  "kernelspec": {
   "display_name": "Python 3",
   "language": "python",
   "name": "python3"
  },
  "language_info": {
   "codemirror_mode": {
    "name": "ipython",
    "version": 3
   },
   "file_extension": ".py",
   "mimetype": "text/x-python",
   "name": "python",
   "nbconvert_exporter": "python",
   "pygments_lexer": "ipython3",
   "version": "3.7.0"
  },
  "toc": {
   "nav_menu": {},
   "number_sections": true,
   "sideBar": true,
   "skip_h1_title": false,
   "toc_cell": false,
   "toc_position": {},
   "toc_section_display": "block",
   "toc_window_display": false
  }
 },
 "nbformat": 4,
 "nbformat_minor": 2
}
