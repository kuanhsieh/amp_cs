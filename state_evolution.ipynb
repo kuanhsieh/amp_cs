{
 "cells": [
  {
   "cell_type": "code",
   "execution_count": 1,
   "metadata": {
    "ExecuteTime": {
     "end_time": "2021-09-16T17:06:20.643447Z",
     "start_time": "2021-09-16T17:06:19.940753Z"
    }
   },
   "outputs": [],
   "source": [
    "# AMP decoder for signal recovery in compressed sensing.\n",
    "# CS model: y = Ax + noise\n",
    "# Goal: recover x given y and A\n",
    "#\n",
    "# Compare the empirical average mean-squared error (MSE) of AMP \n",
    "# decoding over many random decoding instances with its prediction \n",
    "# from state evolution (SE).\n",
    "# 1) We compare the MSE across iterations for a single set of system\n",
    "#    parameters.\n",
    "# 2) We compare the undersampling ratio vs sparisty ratio (final \n",
    "#    iteration) MSE phase diagram.\n",
    "#\n",
    "# Copyright (c) 2021 Kuan Hsieh\n",
    "\n",
    "import numpy as np\n",
    "import matplotlib.pyplot as plt\n",
    "import time\n",
    "from scipy.stats import norm\n",
    "from matplotlib.colors import LogNorm\n",
    "from amp4cs import initialise_CS, opt_tuning_param, amp, se"
   ]
  },
  {
   "cell_type": "markdown",
   "metadata": {},
   "source": [
    "# Single instance"
   ]
  },
  {
   "cell_type": "code",
   "execution_count": 2,
   "metadata": {
    "ExecuteTime": {
     "end_time": "2021-09-16T17:06:22.588611Z",
     "start_time": "2021-09-16T17:06:22.578223Z"
    }
   },
   "outputs": [],
   "source": [
    "N     = 1000  # dimension of signal\n",
    "M     = 500  # num of measurements\n",
    "K     = 30   # num of non-zero coefficients\n",
    "sigma = 0.05  # Noise standard deviation\n",
    "\n",
    "delta    = M/N\n",
    "eps      = K/N\n",
    "alpha    = opt_tuning_param(eps) # Find optimal alpha\n",
    "iter_max = 20 # Max num of iterations"
   ]
  },
  {
   "cell_type": "code",
   "execution_count": 3,
   "metadata": {
    "ExecuteTime": {
     "end_time": "2021-09-16T17:06:23.291601Z",
     "start_time": "2021-09-16T17:06:23.060311Z"
    }
   },
   "outputs": [],
   "source": [
    "# Run AMP decoder \n",
    "\n",
    "numOfRuns = 10\n",
    "mse       = np.ones((numOfRuns, iter_max)) * eps\n",
    "\n",
    "for run in range(numOfRuns):\n",
    "    \n",
    "    y, A, x_init = initialise_CS(N, M, K, sigma)\n",
    "    x_amp = np.zeros_like(x_init) # Initial signal estimate\n",
    "    z_amp = y                     # Initial residual\n",
    "    mse[run] = np.var(x_init)*np.ones(iter_max) # Store empirical MSE across iterations\n",
    "\n",
    "    for t in range(iter_max-1):\n",
    "        (x_amp, z_amp)   = amp(y, A, x_amp, z_amp, alpha)\n",
    "        mse[run,t+1] = np.mean((x_amp-x_init)**2)"
   ]
  },
  {
   "cell_type": "code",
   "execution_count": 6,
   "metadata": {
    "ExecuteTime": {
     "end_time": "2021-09-16T17:06:37.947840Z",
     "start_time": "2021-09-16T17:06:36.592963Z"
    }
   },
   "outputs": [],
   "source": [
    "# State evolution, tau here is a variance not standard deviation\n",
    "# (a squared difference)\n",
    "\n",
    "nsamples = 1000000\n",
    "psi,_ = se(eps, delta, sigma, iter_max, nsamples)"
   ]
  },
  {
   "cell_type": "code",
   "execution_count": 7,
   "metadata": {
    "ExecuteTime": {
     "end_time": "2021-09-16T17:06:38.316097Z",
     "start_time": "2021-09-16T17:06:37.950600Z"
    }
   },
   "outputs": [
    {
     "data": {
      "text/plain": [
       "<matplotlib.legend.Legend at 0x113182828>"
      ]
     },
     "execution_count": 7,
     "metadata": {},
     "output_type": "execute_result"
    },
    {
     "data": {
      "image/png": "[encoded data removed]",
      "text/plain": [
       "<Figure size 432x288 with 1 Axes>"
      ]
     },
     "metadata": {
      "needs_background": "light"
     },
     "output_type": "display_data"
    }
   ],
   "source": [
    "plt.plot(mse.mean(axis=0), label='AMP')\n",
    "plt.plot(psi, label='SE')\n",
    "plt.yscale('log')\n",
    "plt.xlabel('Iteration')\n",
    "plt.ylabel('MSE')\n",
    "plt.grid()\n",
    "plt.legend()"
   ]
  },
  {
   "cell_type": "markdown",
   "metadata": {},
   "source": [
    "# Undersampling-sparsity MSE phase diagram"
   ]
  },
  {
   "cell_type": "code",
   "execution_count": 8,
   "metadata": {
    "ExecuteTime": {
     "end_time": "2021-09-16T17:11:07.374356Z",
     "start_time": "2021-09-16T17:07:09.084799Z"
    }
   },
   "outputs": [
    {
     "name": "stdout",
     "output_type": "stream",
     "text": [
      "20.0%\n",
      "40.0%\n",
      "60.0%\n",
      "80.0%\n",
      "100.0%\n",
      "time elapsed (s): 238.27061785000004\n"
     ]
    }
   ],
   "source": [
    "start = time.perf_counter()\n",
    "\n",
    "N         = 500   # Dimension of signal\n",
    "iter_max  = 50    # Iteration limit\n",
    "numOfRuns = 30    # Number of runs to calculate the median\n",
    "sigma     = 0.025 # Noise standard deviation\n",
    "\n",
    "n     = 20 # Number of equispaces samples on each axis of the graph\n",
    "rho   = np.linspace(1/n, 1, n) # sparsity ratios\n",
    "delta = np.linspace(1/n, 1, n) # undersampling ratios\n",
    "\n",
    "nsamples    = 100000 # Number of Monte Carlo samples for SE\n",
    "errStore    = np.ones(numOfRuns)*np.nan # Store error in estimation for each run\n",
    "errArray    = np.ones((n,n))*np.nan     # Store error in estimation for each delta, alpha\n",
    "errArray_se = np.ones((n,n))*np.nan     # Store error in estimation for each delta, alpha\n",
    "\n",
    "for i in range(n):\n",
    "    if (np.around(delta[i]*100) % 20) == 0:\n",
    "        print(str(np.around(delta[i]*100))+\"%\")\n",
    "\n",
    "    for j in range(n):\n",
    "        eps   = delta[i]*rho[j]\n",
    "        alpha = opt_tuning_param(eps)\n",
    "        \n",
    "        # AMP \n",
    "        for run in range(numOfRuns):\n",
    "            M = np.around(N * delta[i]).astype(int)\n",
    "            K = np.around(M * rho[j]).astype(int)\n",
    "            \n",
    "            y, A, x_init = initialise_CS(N, M, K, sigma, x_choice=0)\n",
    "\n",
    "            # AMP decoding\n",
    "            x_amp   = np.zeros_like(x_init) # Initial signal estimate\n",
    "            z_amp   = y                     # Initial residual\n",
    "            for t in range(iter_max):\n",
    "                (x_amp, z_amp)     = amp(y, A, x_amp, z_amp, alpha)\n",
    "                \n",
    "            errStore[run]   = np.mean((x_amp-x_init)**2) \n",
    "        errArray[j,i]    = np.median(errStore)   # Note swap of i & j since rhos are rows\n",
    "        \n",
    "        # SE\n",
    "        psi,_ = se(eps, delta[i], sigma, iter_max, nsamples)\n",
    "        errArray_se[j,i] = psi[-1]\n",
    "\n",
    "print(\"time elapsed (s):\", time.perf_counter()-start)   "
   ]
  },
  {
   "cell_type": "code",
   "execution_count": 9,
   "metadata": {
    "ExecuteTime": {
     "end_time": "2021-09-16T17:11:08.196885Z",
     "start_time": "2021-09-16T17:11:07.377974Z"
    }
   },
   "outputs": [
    {
     "data": {
      "text/plain": [
       "Text(0, 0.5, '$\\\\rho = K/M$')"
      ]
     },
     "execution_count": 9,
     "metadata": {},
     "output_type": "execute_result"
    },
    {
     "data": {
      "image/png": "[encoded data removed]",
      "text/plain": [
       "<Figure size 864x432 with 4 Axes>"
      ]
     },
     "metadata": {
      "needs_background": "light"
     },
     "output_type": "display_data"
    }
   ],
   "source": [
    "# This is the Donoho-Tanner phase transition curve\n",
    "alpha2 = np.linspace(0,3,300)\n",
    "delta2 = 2*norm.pdf(alpha2)/(alpha2+2*(norm.pdf(alpha2)-alpha2*norm.cdf(-alpha2)))\n",
    "rho2   = 1 - alpha2*norm.cdf(-alpha2)/norm.pdf(alpha2)\n",
    "\n",
    "# Plot the MSE phase diagrams\n",
    "plt.figure(figsize=(12,6))\n",
    "\n",
    "plt.subplot(121)\n",
    "plt.plot(delta2, rho2,'m', linewidth=3.0)\n",
    "plt.imshow(errArray/sigma**2, norm=LogNorm(vmin=1e-1, vmax=1*1e2), cmap='jet',\n",
    "           interpolation='none', origin='lower', extent=(0,1,0,1))\n",
    "# plt.imshow(errArray, interpolation='none', origin='lower', extent=(0,1,0,1))\n",
    "plt.title('Normalised MSE map - AMP' +'\\n'+ r'$\\sigma=$'+str(sigma))\n",
    "plt.colorbar(shrink=0.8)\n",
    "plt.xlabel(r'$\\delta = M/N$')\n",
    "plt.ylabel(r'$\\rho = K/M$')\n",
    "\n",
    "plt.subplot(122)\n",
    "plt.plot(delta2, rho2, 'm',linewidth=3.0)\n",
    "plt.imshow(errArray_se/sigma**2, norm=LogNorm(vmin=1e-1, vmax=1*1e2), cmap='jet',\n",
    "           interpolation='none', origin='lower', extent=(0,1,0,1))\n",
    "# plt.imshow(errArray_b/sigma**2, cmap='jet', interpolation='none', origin='lower', extent=(0,1,0,1))\n",
    "plt.title('Normalised MSE map - SE' +'\\n'+ r'$\\sigma=$'+str(sigma))\n",
    "plt.colorbar(shrink=0.8)\n",
    "plt.xlabel(r'$\\delta = M/N$')\n",
    "plt.ylabel(r'$\\rho = K/M$')"
   ]
  },
  {
   "cell_type": "code",
   "execution_count": null,
   "metadata": {},
   "outputs": [],
   "source": []
  }
 ],
 "metadata": {
  "kernelspec": {
   "display_name": "Python 3",
   "language": "python",
   "name": "python3"
  },
  "language_info": {
   "codemirror_mode": {
    "name": "ipython",
    "version": 3
   },
   "file_extension": ".py",
   "mimetype": "text/x-python",
   "name": "python",
   "nbconvert_exporter": "python",
   "pygments_lexer": "ipython3",
   "version": "3.7.0"
  },
  "toc": {
   "nav_menu": {},
   "number_sections": true,
   "sideBar": true,
   "skip_h1_title": false,
   "toc_cell": false,
   "toc_position": {},
   "toc_section_display": "block",
   "toc_window_display": false
  }
 },
 "nbformat": 4,
 "nbformat_minor": 2
}
